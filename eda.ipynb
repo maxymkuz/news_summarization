{
 "cells": [
  {
   "cell_type": "code",
   "execution_count": 55,
   "metadata": {},
   "outputs": [],
   "source": [
    "# ! pip install transformers tokenizers sentencepiece protobuf # останні два може бути потрібно для деяких токенайзерів\n",
    "# !pip install pandas numpy matplotlib scikit-learn\n",
    "\n"
   ]
  },
  {
   "cell_type": "code",
   "execution_count": 56,
   "metadata": {},
   "outputs": [],
   "source": [
    "import os\n",
    "import numpy as np\n",
    "import pandas as pd"
   ]
  },
  {
   "cell_type": "code",
   "execution_count": 57,
   "metadata": {},
   "outputs": [],
   "source": [
    "news_articles_path = \"BBC News Summary/News Articles/\"\n",
    "summaries_path = \"BBC News Summary/Summaries/\"\n",
    "\n",
    "all_data = []\n",
    "articles = []\n",
    "summaries = []\n",
    "\n",
    "\n",
    "for subdir, dirs, files in os.walk(news_articles_path):\n",
    "    for file in files:\n",
    "        article_path = os.path.join(subdir, file)\n",
    "        summary_path = article_path.replace('News Articles', 'Summaries')\n",
    "\n",
    "        with open(article_path,'r',errors='ignore') as f:\n",
    "            article = ' '.join([i.rstrip() for i in f.readlines()])\n",
    "            articles.append(article)\n",
    "            f.close()\n",
    "\n",
    "        with open(summary_path,'r',errors='ignore') as f:\n",
    "            summary=''.join([i.rstrip() for i in f.readlines()])\n",
    "            summaries.append(summary)\n",
    "            f.close()\n"
   ]
  },
  {
   "cell_type": "code",
   "execution_count": 58,
   "metadata": {},
   "outputs": [
    {
     "data": {
      "text/plain": [
       "(2225,)"
      ]
     },
     "execution_count": 58,
     "metadata": {},
     "output_type": "execute_result"
    }
   ],
   "source": [
    "summaries = np.array(summaries)\n",
    "summaries.shape\n",
    "articles = np.array(articles)\n",
    "summaries.shape\n"
   ]
  },
  {
   "cell_type": "code",
   "execution_count": 59,
   "metadata": {},
   "outputs": [
    {
     "data": {
      "text/plain": [
       "'\"I was not counting on this being the end of the day for me.Andre Agassi\\'s involvement in the Australian Open was put in doubt after he pulled out of the Kooyong Classic with a hip injury.\"That wasn\\'t comfortable out there at all, what I was feeling.\"My hip was cramping and I just could not continue,\" said the 34-year-old.He said the problem was not the same as the hip injury which forced him to miss Wimbledon last year.'"
      ]
     },
     "execution_count": 59,
     "metadata": {},
     "output_type": "execute_result"
    }
   ],
   "source": [
    "summaries[1000]"
   ]
  },
  {
   "cell_type": "code",
   "execution_count": 60,
   "metadata": {},
   "outputs": [
    {
     "data": {
      "text/plain": [
       "'Agassi fear for Melbourne  Andre Agassi\\'s involvement in the Australian Open was put in doubt after he pulled out of the Kooyong Classic with a hip injury.  Agassi was serving at 5-6 down in the first set to fellow American Andy Roddick when he decided to bring a premature end to the match. \"My hip was cramping and I just could not continue,\" said the 34-year-old. Agassi, who has won the Australian Open four times, will have an MRI scan to discover the extent of the damage. He said the problem was not the same as the hip injury which forced him to miss Wimbledon last year.  \"The good news is that it didn\\'t just tear, it was tightening up and that can be your body protecting itself, which is hopefully more of the issue,\" he added. \"That wasn\\'t comfortable out there at all, what I was feeling. \"I have to wait and see what I\\'m dealing with - it\\'s a pretty scary feeling out there when something doesn\\'t feel right and is getting worse. \"It\\'s very disappointing and I\\'ll have to do my best to deal with it. Time will shortly tell if it (the Australian Open) is a possibility or not. \"I was not counting on this being the end of the day for me. \"Maybe in a few days I\\'ll have a much better sense of what my hopes will be.\"'"
      ]
     },
     "execution_count": 60,
     "metadata": {},
     "output_type": "execute_result"
    }
   ],
   "source": [
    "articles[1000]"
   ]
  },
  {
   "cell_type": "code",
   "execution_count": null,
   "metadata": {},
   "outputs": [],
   "source": [
    "'White prepared for battleTough-scrummaging prop Julian White is expecting a resurgent Wales to give him a rough ride in England\\'s Six Nations opener in Cardiff on Saturday.The Leicester tight-head is in the form of his life, making the England number three shirt his own. But he knows Wales will put his technique under immense scrutiny. \"The Welsh scrum is a force to be reckoned with,\" he told BBC Sport. \"They have made a lot of changes for the better over the last few years.\" White is also impressed with the Welsh pack\\'s strength in depth. \"Gethin Jenkins is starting at loose-head for them. He has played a bit at tight-head but I think his favoured position is loose-head and he is very good,\" he added. The 31-year-old has made a massive contribution to the England and Leicester cause of late and is arguably the form tight-head prop in the world.He destroyed South Africa\\'s Os du Randt in the scrum at Twickenham last autumn to give England the platform for an impressive 32-16 victory. Leicester, who signed White from Bristol when the West Country side were relegated from the Zurich Premiership in the summer of 2003, have also been aided by White\\'s presence this season. The Tigers are sitting pretty at the top of the Premiership table and have also booked their place in the last eight of the Heineken Cup. \"I am pleased with my form,\" he said. \"But my form is helped by the people I play with at Leicester - people like Martin Johnson and Graham Rowntree. \"It\\'s been a good season so far and to be in the starting XV for the first game of the Six Nations is what every player wants. \"I am delighted with the way things have gone but we have to get it right this weekend.\" White is now one of the more experienced members of the England squad which takes to the field on Saturday. Injuries have taken their toll and coach Andy Robinson has been deprived of Richard Hill, Jonny Wilkinson, Martin Corry, Mike Tindall, Will Greenwood and Stuart Abbott.And with 27 caps and a World Cup winner\\'s medal to his name, White is now in a position to offer his experience to youngsters such as centres Matthew Tait and Jamie Noon. \"I don\\'t know how much experience a tight-head can give a centre but you are there to give them a pat on the back if things go wrong or to be there if they want to talk in any way,\" he added. \"When I first came into the squad, people like Jason Leonard and Martin Johnson were the first to come over and talk through things and help out.\"It gives you a lot of confidence when people like that speak to you. \"I was in awe of a lot of them so to sit down and speak with them and realise you are on the same wavelength is good.\" White missed the vast majority of last year\\'s Six Nations because of a knee injury and is raring for the 2005 event to get going. And that is despite the opening game taking place amid the red-hot atmosphere in Cardiff. \"I enjoy the atmosphere. The Millennium Stadium is probably one of the best stadiums in the world,\" he said. \"To go down there and hear the shouting and the singing - it\\'s one of my favourite places to play. \"This is probably the most even Six Nations for a long time. England, Ireland, France and Wales are all contenders. \"On form, Ireland should be favourites but you just don\\'t know - that\\'s the great thing about this tournament.\"'"
   ]
  },
  {
   "cell_type": "code",
   "execution_count": 13,
   "metadata": {},
   "outputs": [],
   "source": [
    "from transformers import AutoTokenizer"
   ]
  },
  {
   "cell_type": "code",
   "execution_count": 8,
   "metadata": {},
   "outputs": [],
   "source": [
    "model_name = 'google/t5-v1_1-base'\n",
    "tokenizer = AutoTokenizer.from_pretrained(model_name) # тут буде даунлоад десь на гіг якщо правильно пам'ятаю"
   ]
  },
  {
   "cell_type": "code",
   "execution_count": 10,
   "metadata": {},
   "outputs": [],
   "source": [
    "\n",
    "tokens = tokenizer(\"some text string\")\n",
    "# token is a dictionary, has 2 elements: input_ids - list of tokens; attention_mask - not important for now\n",
    "the_number_that_you_want = len(tokens.input_ids)\n",
    "\n",
    "\n",
    "# another thing you can do is tokenize batches of text, looks like this\n",
    "tokens_batch = tokenizer([\"some text string\", \"a second text string\", \"etc...\"])\n",
    "tokens_1, tokens_2, tokens_3 = tokens_batch.input_ids\n",
    "numbers_that_you_want = len(tokens_1), len(tokens_2), len(tokens_3)\n"
   ]
  },
  {
   "cell_type": "code",
   "execution_count": 11,
   "metadata": {},
   "outputs": [
    {
     "data": {
      "text/plain": [
       "(4, 6, 3)"
      ]
     },
     "execution_count": 11,
     "metadata": {},
     "output_type": "execute_result"
    }
   ],
   "source": [
    "numbers_that_you_want"
   ]
  },
  {
   "cell_type": "code",
   "execution_count": null,
   "metadata": {},
   "outputs": [],
   "source": []
  }
 ],
 "metadata": {
  "interpreter": {
   "hash": "dfd85e5bb403e31b87e1d8a4ab846add4bbc7a649451b33e568eb2090b6df23c"
  },
  "kernelspec": {
   "display_name": "Python 3.9.7 ('base')",
   "language": "python",
   "name": "python3"
  },
  "language_info": {
   "codemirror_mode": {
    "name": "ipython",
    "version": 3
   },
   "file_extension": ".py",
   "mimetype": "text/x-python",
   "name": "python",
   "nbconvert_exporter": "python",
   "pygments_lexer": "ipython3",
   "version": "3.9.7"
  },
  "orig_nbformat": 4
 },
 "nbformat": 4,
 "nbformat_minor": 2
}
