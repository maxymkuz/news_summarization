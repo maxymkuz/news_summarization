{
 "cells": [
  {
   "cell_type": "code",
   "execution_count": 2,
   "metadata": {},
   "outputs": [],
   "source": [
    "# ! pip install transformers tokenizers sentencepiece protobuf # останні два може бути потрібно для деяких токенайзерів\n",
    "# !pip install pandas numpy matplotlib scikit-learn\n",
    "\n"
   ]
  },
  {
   "cell_type": "code",
   "execution_count": 3,
   "metadata": {},
   "outputs": [],
   "source": [
    "import os\n",
    "import matplotlib.pyplot as plt\n",
    "import numpy as np\n",
    "import pandas as pd\n",
    "import scipy.stats as st\n",
    "\n",
    "%matplotlib inline\n"
   ]
  },
  {
   "cell_type": "code",
   "execution_count": 4,
   "metadata": {},
   "outputs": [],
   "source": [
    "news_articles_path = \"BBC News Summary/News Articles/\"\n",
    "summaries_path = \"BBC News Summary/Summaries/\"\n",
    "\n",
    "all_data = []\n",
    "articles = []\n",
    "summaries = []\n",
    "\n",
    "\n",
    "for subdir, dirs, files in os.walk(news_articles_path):\n",
    "    for file in files:\n",
    "        article_path = os.path.join(subdir, file)\n",
    "        summary_path = article_path.replace('News Articles', 'Summaries')\n",
    "\n",
    "        with open(article_path,'r',errors='ignore') as f:\n",
    "            article = ' '.join([i.rstrip() for i in f.readlines()])\n",
    "            articles.append(article)\n",
    "            f.close()\n",
    "\n",
    "        with open(summary_path,'r',errors='ignore') as f:\n",
    "            summary=''.join([i.rstrip() for i in f.readlines()])\n",
    "            summaries.append(summary)\n",
    "            f.close()\n"
   ]
  },
  {
   "cell_type": "code",
   "execution_count": null,
   "metadata": {},
   "outputs": [],
   "source": []
  },
  {
   "cell_type": "code",
   "execution_count": 5,
   "metadata": {},
   "outputs": [
    {
     "data": {
      "text/html": [
       "<div>\n",
       "<style scoped>\n",
       "    .dataframe tbody tr th:only-of-type {\n",
       "        vertical-align: middle;\n",
       "    }\n",
       "\n",
       "    .dataframe tbody tr th {\n",
       "        vertical-align: top;\n",
       "    }\n",
       "\n",
       "    .dataframe thead th {\n",
       "        text-align: right;\n",
       "    }\n",
       "</style>\n",
       "<table border=\"1\" class=\"dataframe\">\n",
       "  <thead>\n",
       "    <tr style=\"text-align: right;\">\n",
       "      <th></th>\n",
       "      <th>author</th>\n",
       "      <th>date</th>\n",
       "      <th>headlines</th>\n",
       "      <th>read_more</th>\n",
       "      <th>text</th>\n",
       "      <th>ctext</th>\n",
       "    </tr>\n",
       "  </thead>\n",
       "  <tbody>\n",
       "    <tr>\n",
       "      <th>count</th>\n",
       "      <td>4341</td>\n",
       "      <td>4341</td>\n",
       "      <td>4341</td>\n",
       "      <td>4341</td>\n",
       "      <td>4341</td>\n",
       "      <td>4341</td>\n",
       "    </tr>\n",
       "    <tr>\n",
       "      <th>unique</th>\n",
       "      <td>45</td>\n",
       "      <td>240</td>\n",
       "      <td>4341</td>\n",
       "      <td>4341</td>\n",
       "      <td>4341</td>\n",
       "      <td>4341</td>\n",
       "    </tr>\n",
       "    <tr>\n",
       "      <th>top</th>\n",
       "      <td>Chhavi Tyagi</td>\n",
       "      <td>19 Jul 2017,Wednesday</td>\n",
       "      <td>Daman &amp; Diu revokes mandatory Rakshabandhan in...</td>\n",
       "      <td>http://www.hindustantimes.com/india-news/raksh...</td>\n",
       "      <td>The Administration of Union Territory Daman an...</td>\n",
       "      <td>The Daman and Diu administration on Wednesday ...</td>\n",
       "    </tr>\n",
       "    <tr>\n",
       "      <th>freq</th>\n",
       "      <td>537</td>\n",
       "      <td>76</td>\n",
       "      <td>1</td>\n",
       "      <td>1</td>\n",
       "      <td>1</td>\n",
       "      <td>1</td>\n",
       "    </tr>\n",
       "  </tbody>\n",
       "</table>\n",
       "</div>"
      ],
      "text/plain": [
       "              author                   date  \\\n",
       "count           4341                   4341   \n",
       "unique            45                    240   \n",
       "top     Chhavi Tyagi  19 Jul 2017,Wednesday   \n",
       "freq             537                     76   \n",
       "\n",
       "                                                headlines  \\\n",
       "count                                                4341   \n",
       "unique                                               4341   \n",
       "top     Daman & Diu revokes mandatory Rakshabandhan in...   \n",
       "freq                                                    1   \n",
       "\n",
       "                                                read_more  \\\n",
       "count                                                4341   \n",
       "unique                                               4341   \n",
       "top     http://www.hindustantimes.com/india-news/raksh...   \n",
       "freq                                                    1   \n",
       "\n",
       "                                                     text  \\\n",
       "count                                                4341   \n",
       "unique                                               4341   \n",
       "top     The Administration of Union Territory Daman an...   \n",
       "freq                                                    1   \n",
       "\n",
       "                                                    ctext  \n",
       "count                                                4341  \n",
       "unique                                               4341  \n",
       "top     The Daman and Diu administration on Wednesday ...  \n",
       "freq                                                    1  "
      ]
     },
     "execution_count": 5,
     "metadata": {},
     "output_type": "execute_result"
    }
   ],
   "source": [
    "df = pd.read_csv('./data/news_summary.csv', encoding='iso-8859-1')\n",
    "df.head()\n",
    "\n",
    "# Removing NaNs if any\n",
    "df.drop_duplicates(subset=[\"ctext\"],inplace=True)\n",
    "df.dropna(inplace=True)\n",
    "df.reset_index(drop=True,inplace=True)\n",
    "\n",
    "df.describe()"
   ]
  },
  {
   "cell_type": "code",
   "execution_count": 6,
   "metadata": {},
   "outputs": [
    {
     "data": {
      "text/plain": [
       "(2050.8461184058974, 354.8825155494126)"
      ]
     },
     "execution_count": 6,
     "metadata": {},
     "output_type": "execute_result"
    }
   ],
   "source": [
    "summaries = np.array(df.text)\n",
    "summary_lengths = np.array([len(text) for text in summaries])\n",
    "\n",
    "full_texts = np.array(df.ctext)\n",
    "full_texts_lengths = np.array([len(text) for text in full_texts])\n",
    "\n",
    "full_texts_lengths.mean(), summary_lengths.mean()"
   ]
  },
  {
   "cell_type": "code",
   "execution_count": 7,
   "metadata": {},
   "outputs": [
    {
     "data": {
      "image/png": "[encoded data removed]",
      "text/plain": [
       "<Figure size 432x288 with 1 Axes>"
      ]
     },
     "metadata": {
      "needs_background": "light"
     },
     "output_type": "display_data"
    }
   ],
   "source": [
    "\n",
    "plt.hist(full_texts_lengths, density=True, bins=400, label=\"Data\")\n",
    "mn, mx = plt.xlim()\n",
    "plt.xlim(0, 5000)\n",
    "kde_xs = np.linspace(mn, mx, 300)\n",
    "kde = st.gaussian_kde(full_texts_lengths)\n",
    "plt.plot(kde_xs, kde.pdf(kde_xs), label=\"PDF\")\n",
    "plt.legend(loc=\"upper left\")\n",
    "plt.ylabel(\"Probability\")\n",
    "plt.xlabel(\"Words count\")\n",
    "plt.title(\"Number of words in news text\");"
   ]
  },
  {
   "cell_type": "code",
   "execution_count": 8,
   "metadata": {},
   "outputs": [
    {
     "data": {
      "image/png": "[encoded data removed]",
      "text/plain": [
       "<Figure size 432x288 with 1 Axes>"
      ]
     },
     "metadata": {
      "needs_background": "light"
     },
     "output_type": "display_data"
    }
   ],
   "source": [
    "plt.hist(summary_lengths, density=True, bins=70, label=\"Data\")\n",
    "mn, mx = plt.xlim()\n",
    "plt.xlim(250, 500)\n",
    "kde_xs = np.linspace(mn, mx, 300)\n",
    "kde = st.gaussian_kde(summary_lengths)\n",
    "plt.plot(kde_xs, kde.pdf(kde_xs), label=\"PDF\")\n",
    "plt.legend(loc=\"upper left\")\n",
    "plt.ylabel(\"Probability\")\n",
    "plt.xlabel(\"Words count\")\n",
    "plt.title(\"Number of words in the summary\");\n"
   ]
  },
  {
   "cell_type": "code",
   "execution_count": 9,
   "metadata": {},
   "outputs": [
    {
     "name": "stderr",
     "output_type": "stream",
     "text": [
      "None of PyTorch, TensorFlow >= 2.0, or Flax have been found. Models won't be available and only tokenizers, configuration and file/data utilities can be used.\n"
     ]
    }
   ],
   "source": [
    "from transformers import AutoTokenizer"
   ]
  },
  {
   "cell_type": "code",
   "execution_count": 10,
   "metadata": {},
   "outputs": [],
   "source": [
    "model_name = 'google/t5-v1_1-base'\n",
    "tokenizer = AutoTokenizer.from_pretrained(model_name) # тут буде даунлоад десь на гіг якщо правильно пам'ятаю"
   ]
  },
  {
   "cell_type": "code",
   "execution_count": 11,
   "metadata": {},
   "outputs": [
    {
     "name": "stderr",
     "output_type": "stream",
     "text": [
      "Token indices sequence length is longer than the specified maximum sequence length for this model (543 > 512). Running this sequence through the model will result in indexing errors\n"
     ]
    },
    {
     "data": {
      "text/plain": [
       "array([543, 663, 491, ..., 928, 344, 366])"
      ]
     },
     "execution_count": 11,
     "metadata": {},
     "output_type": "execute_result"
    }
   ],
   "source": [
    "\n",
    "tokenized_summary = [tokenizer(text) for text in summaries]\n",
    "\n",
    "tokenized_summary_lengths = np.array([len(text.input_ids) for text in tokenized_summary])\n",
    "tokenized_summary_lengths\n",
    "\n",
    "tokenized_full_text = [tokenizer(text) for text in full_texts]\n",
    "tokenized_full_text_lengths = np.array([len(text.input_ids) for text in tokenized_full_text])\n",
    "\n",
    "tokenized_full_text_lengths"
   ]
  },
  {
   "cell_type": "code",
   "execution_count": 12,
   "metadata": {},
   "outputs": [
    {
     "data": {
      "image/png": "[encoded data removed]",
      "text/plain": [
       "<Figure size 432x288 with 1 Axes>"
      ]
     },
     "metadata": {
      "needs_background": "light"
     },
     "output_type": "display_data"
    }
   ],
   "source": [
    "\n",
    "plt.hist(tokenized_full_text_lengths, density=True, bins=400, label=\"Data\")\n",
    "mn, mx = plt.xlim()\n",
    "plt.xlim(0, 2000)\n",
    "kde_xs = np.linspace(mn, mx, 300)\n",
    "kde = st.gaussian_kde(tokenized_full_text_lengths)\n",
    "plt.plot(kde_xs, kde.pdf(kde_xs), label=\"PDF\")\n",
    "plt.legend(loc=\"upper left\")\n",
    "plt.ylabel(\"Probability\")\n",
    "plt.xlabel(\"Words count\")\n",
    "plt.title(\"Number of tokens in the tokenized news text\");"
   ]
  },
  {
   "cell_type": "code",
   "execution_count": 13,
   "metadata": {},
   "outputs": [
    {
     "data": {
      "text/plain": [
       "1011.5999999999999"
      ]
     },
     "execution_count": 13,
     "metadata": {},
     "output_type": "execute_result"
    }
   ],
   "source": [
    "np.percentile(tokenized_full_text_lengths, 94)"
   ]
  },
  {
   "cell_type": "code",
   "execution_count": null,
   "metadata": {},
   "outputs": [],
   "source": []
  },
  {
   "cell_type": "code",
   "execution_count": 18,
   "metadata": {},
   "outputs": [
    {
     "data": {
      "image/png": "[encoded data removed]",
      "text/plain": [
       "<Figure size 432x288 with 1 Axes>"
      ]
     },
     "metadata": {
      "needs_background": "light"
     },
     "output_type": "display_data"
    }
   ],
   "source": [
    "\n",
    "plt.hist(tokenized_summary_lengths, density=True, bins=80, label=\"Data\")\n",
    "mn, mx = plt.xlim()\n",
    "# plt.xlim(0, 2000)\n",
    "kde_xs = np.linspace(mn, mx, 300)\n",
    "kde = st.gaussian_kde(tokenized_summary_lengths)\n",
    "plt.plot(kde_xs, kde.pdf(kde_xs), label=\"PDF\")\n",
    "plt.legend(loc=\"upper left\")\n",
    "plt.ylabel(\"Probability\")\n",
    "plt.xlabel(\"Tokens count\")\n",
    "plt.title(\"Number of tokens in the tokenized news text\");"
   ]
  },
  {
   "cell_type": "code",
   "execution_count": 19,
   "metadata": {},
   "outputs": [
    {
     "data": {
      "text/plain": [
       "139.0"
      ]
     },
     "execution_count": 19,
     "metadata": {},
     "output_type": "execute_result"
    }
   ],
   "source": [
    "np.percentile(tokenized_summary_lengths, 100)"
   ]
  },
  {
   "cell_type": "code",
   "execution_count": null,
   "metadata": {},
   "outputs": [],
   "source": []
  }
 ],
 "metadata": {
  "interpreter": {
   "hash": "dfd85e5bb403e31b87e1d8a4ab846add4bbc7a649451b33e568eb2090b6df23c"
  },
  "kernelspec": {
   "display_name": "Python 3.9.7 ('base')",
   "language": "python",
   "name": "python3"
  },
  "language_info": {
   "codemirror_mode": {
    "name": "ipython",
    "version": 3
   },
   "file_extension": ".py",
   "mimetype": "text/x-python",
   "name": "python",
   "nbconvert_exporter": "python",
   "pygments_lexer": "ipython3",
   "version": "3.9.7"
  },
  "orig_nbformat": 4
 },
 "nbformat": 4,
 "nbformat_minor": 2
}
